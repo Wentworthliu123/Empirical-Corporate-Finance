{
 "cells": [
  {
   "cell_type": "code",
   "execution_count": 2,
   "metadata": {},
   "outputs": [
    {
     "name": "stdout",
     "output_type": "stream",
     "text": [
      "Loading library list...\n",
      "Done\n"
     ]
    }
   ],
   "source": [
    "##################################################\n",
    "# Eventstudy.py (PYTHON)\n",
    "#     download CRSP & Compustat data.\n",
    "#     by Xinyu\n",
    "##################################################\n",
    "\n",
    "import pandas as pd\n",
    "import numpy as np\n",
    "import wrds\n",
    "import datetime as dt\n",
    "from dateutil.relativedelta import *\n",
    "from pandas.tseries.offsets import *\n",
    "import matplotlib.pyplot as plt\n",
    "pd.set_option(\"display.max_columns\", 50)\n",
    "import os\n",
    "\n",
    "from datetime import datetime\n",
    "###################\n",
    "# Connect to WRDS #\n",
    "###################\n",
    "conn=wrds.Connection()"
   ]
  },
  {
   "cell_type": "code",
   "execution_count": 91,
   "metadata": {},
   "outputs": [],
   "source": [
    "direct = os.path.realpath('.')\n",
    "filename = os.path.join(direct, 'Data','eventdate.csv')\n",
    "eventdate = pd.read_csv(filename,parse_dates=['announcedate'])\n",
    "varlist = ['announcedate','gvkey']\n",
    "eventdate = eventdate[varlist]\n",
    "eventdate.dropna(inplace=True)\n",
    "eventdate.reset_index(drop=True,inplace=True)\n",
    "eventdate.rename(columns={'announcedate':'datadate'},inplace=True)"
   ]
  },
  {
   "cell_type": "code",
   "execution_count": 92,
   "metadata": {},
   "outputs": [],
   "source": [
    "#######################\n",
    "# Dataset 2           #\n",
    "# CCM Block           #\n",
    "#######################\n",
    "# Load CCM link table\n",
    "varlist = \"gvkey, lpermno, linkdt, linkenddt\"\n",
    "dataset = \"crsp.ccmxpf_linktable\"\n",
    "ccm=conn.raw_sql(f\"\"\"\n",
    "                    select {varlist}\n",
    "                    from {dataset}\n",
    "                    where substr(linktype,1,1)='L'\n",
    "                    and (linkprim ='C' or linkprim='P')\n",
    "                    \"\"\", date_cols=['linkdt','linkenddt'])\n",
    "ccm['linkenddt']=ccm['linkenddt'].fillna(pd.to_datetime('today')+MonthEnd(0)).dt.date\n",
    "ccm['gvkey']= ccm['gvkey'].astype(int)"
   ]
  },
  {
   "cell_type": "code",
   "execution_count": 93,
   "metadata": {},
   "outputs": [],
   "source": [
    "# Merge comp with ccm to get a merged df\n",
    "eventdate_m=pd.merge(eventdate,ccm,how='left',on=['gvkey'])\n",
    "eventdate_m['yearend']=eventdate_m['datadate']+YearEnd(0)\n",
    "eventdate_m['jdate']=eventdate_m['yearend']+MonthEnd(6)\n",
    "# set link date bounds\n",
    "eventdate_m=eventdate_m[(eventdate_m['jdate']>=eventdate_m['linkdt'])&(eventdate_m['jdate']<=eventdate_m['linkenddt'])]"
   ]
  },
  {
   "cell_type": "code",
   "execution_count": 94,
   "metadata": {},
   "outputs": [],
   "source": [
    "varlist = ['datadate','lpermno']\n",
    "eventdate_m = eventdate_m[varlist]\n",
    "eventdate_m.rename(columns={'lpermno':'permno','datadate':'edate'},inplace=True)\n",
    "eventdate_m.reset_index(drop=True,inplace=True)\n",
    "eventdate_m['edate'] = eventdate_m['edate'].dt.strftime('%m/%d/%Y')\n",
    "varlist = ['permno','edate']\n",
    "eventdate_m = eventdate_m[varlist]\n",
    "eventdate_m['permno'] = eventdate_m['permno'].astype(int)\n",
    "evtstudy = eventdate_m.to_dict('records')\n",
    "import json\n",
    "with open('evtstudy-sample.json', 'w') as event:\n",
    "    json.dump(evtstudy, event)"
   ]
  }
 ],
 "metadata": {
  "kernelspec": {
   "display_name": "Python 3",
   "language": "python",
   "name": "python3"
  },
  "language_info": {
   "codemirror_mode": {
    "name": "ipython",
    "version": 3
   },
   "file_extension": ".py",
   "mimetype": "text/x-python",
   "name": "python",
   "nbconvert_exporter": "python",
   "pygments_lexer": "ipython3",
   "version": "3.9.1"
  }
 },
 "nbformat": 4,
 "nbformat_minor": 4
}
